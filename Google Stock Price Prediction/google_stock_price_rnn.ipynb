{
  "nbformat": 4,
  "nbformat_minor": 0,
  "metadata": {
    "colab": {
      "name": "google_stock_price_rnn.ipynb",
      "provenance": [],
      "collapsed_sections": [],
      "authorship_tag": "ABX9TyOfpO887bPtSGq9gc8ojMYH",
      "include_colab_link": true
    },
    "kernelspec": {
      "name": "python3",
      "display_name": "Python 3"
    },
    "language_info": {
      "name": "python"
    },
    "accelerator": "GPU"
  },
  "cells": [
    {
      "cell_type": "markdown",
      "metadata": {
        "id": "view-in-github",
        "colab_type": "text"
      },
      "source": [
        "<a href=\"https://colab.research.google.com/github/bodamohannaik/Udemy_DL/blob/master/Google%20Stock%20Price%20Prediction/google_stock_price_rnn.ipynb\" target=\"_parent\"><img src=\"https://colab.research.google.com/assets/colab-badge.svg\" alt=\"Open In Colab\"/></a>"
      ]
    },
    {
      "cell_type": "markdown",
      "source": [
        "## UDEMY RNN Excercise\n"
      ],
      "metadata": {
        "id": "IVBWHSueWcl4"
      }
    },
    {
      "cell_type": "markdown",
      "source": [
        "# Import Libraries"
      ],
      "metadata": {
        "id": "5H_XxIDAhTM9"
      }
    },
    {
      "cell_type": "code",
      "source": [
        "import matplotlib.pyplot as plt\n",
        "import numpy as np\n",
        "import os\n",
        "import pandas as pd\n",
        "import tensorflow as tf\n",
        "\n",
        "from sklearn.preprocessing import MinMaxScaler"
      ],
      "metadata": {
        "id": "W6A6Wz4M0Nut"
      },
      "execution_count": 3,
      "outputs": []
    },
    {
      "cell_type": "markdown",
      "source": [
        "# Load Data"
      ],
      "metadata": {
        "id": "ilMjaMipjgBx"
      }
    },
    {
      "cell_type": "code",
      "source": [
        "# make sure that the dataset csv file is avaiable in the current directory\n",
        "raw_dataset_train = pd.read_csv('Google_Stock_Price_Train.csv')\n",
        "raw_dataset_train['Close'] = raw_dataset_train['Close'].apply(lambda x: float(str(x).replace(',', '')))\n",
        "raw_dataset_train['Volume'] = raw_dataset_train['Volume'].apply(lambda x: int(str(x).replace(',', '')))\n",
        "raw_dataset_test = pd.read_csv('Google_Stock_Price_Test.csv')\n",
        "raw_dataset_test['Close'] = raw_dataset_test['Close'].apply(lambda x: float(str(x).replace(',', '')))\n",
        "raw_dataset_test['Volume'] = raw_dataset_test['Volume'].apply(lambda x: int(str(x).replace(',', '')))\n",
        "print(f\"Train dataset shape:{raw_dataset_train.shape}\")\n",
        "print(f\"Test dataset shape:{raw_dataset_test.shape}\")"
      ],
      "metadata": {
        "colab": {
          "base_uri": "https://localhost:8080/"
        },
        "id": "jz8i6Lasjkh5",
        "outputId": "580598df-af5f-40b5-8de4-578f453e47e7"
      },
      "execution_count": 4,
      "outputs": [
        {
          "output_type": "stream",
          "name": "stdout",
          "text": [
            "Train dataset shape:(1258, 6)\n",
            "Test dataset shape:(20, 6)\n"
          ]
        }
      ]
    },
    {
      "cell_type": "markdown",
      "source": [
        "# Understand and Visualize the Data"
      ],
      "metadata": {
        "id": "_RuILcuCrLgo"
      }
    },
    {
      "cell_type": "code",
      "source": [
        "# print train data\n",
        "raw_dataset_train"
      ],
      "metadata": {
        "id": "FXA9pKea0NBf",
        "colab": {
          "base_uri": "https://localhost:8080/",
          "height": 423
        },
        "outputId": "e7670cc5-c2f3-4a06-923c-9fbeaa5cc217"
      },
      "execution_count": 5,
      "outputs": [
        {
          "output_type": "execute_result",
          "data": {
            "text/plain": [
              "            Date    Open    High     Low   Close    Volume\n",
              "0       1/3/2012  325.25  332.83  324.97  663.59   7380500\n",
              "1       1/4/2012  331.27  333.87  329.08  666.45   5749400\n",
              "2       1/5/2012  329.83  330.75  326.89  657.21   6590300\n",
              "3       1/6/2012  328.34  328.77  323.68  648.24   5405900\n",
              "4       1/9/2012  322.04  322.29  309.46  620.76  11688800\n",
              "...          ...     ...     ...     ...     ...       ...\n",
              "1253  12/23/2016  790.90  792.74  787.28  789.91    623400\n",
              "1254  12/27/2016  790.68  797.86  787.66  791.55    789100\n",
              "1255  12/28/2016  793.70  794.23  783.20  785.05   1153800\n",
              "1256  12/29/2016  783.33  785.93  778.92  782.79    744300\n",
              "1257  12/30/2016  782.75  782.78  770.41  771.82   1770000\n",
              "\n",
              "[1258 rows x 6 columns]"
            ],
            "text/html": [
              "\n",
              "  <div id=\"df-e86cfb97-a4fb-4806-b065-6316d0b0c694\">\n",
              "    <div class=\"colab-df-container\">\n",
              "      <div>\n",
              "<style scoped>\n",
              "    .dataframe tbody tr th:only-of-type {\n",
              "        vertical-align: middle;\n",
              "    }\n",
              "\n",
              "    .dataframe tbody tr th {\n",
              "        vertical-align: top;\n",
              "    }\n",
              "\n",
              "    .dataframe thead th {\n",
              "        text-align: right;\n",
              "    }\n",
              "</style>\n",
              "<table border=\"1\" class=\"dataframe\">\n",
              "  <thead>\n",
              "    <tr style=\"text-align: right;\">\n",
              "      <th></th>\n",
              "      <th>Date</th>\n",
              "      <th>Open</th>\n",
              "      <th>High</th>\n",
              "      <th>Low</th>\n",
              "      <th>Close</th>\n",
              "      <th>Volume</th>\n",
              "    </tr>\n",
              "  </thead>\n",
              "  <tbody>\n",
              "    <tr>\n",
              "      <th>0</th>\n",
              "      <td>1/3/2012</td>\n",
              "      <td>325.25</td>\n",
              "      <td>332.83</td>\n",
              "      <td>324.97</td>\n",
              "      <td>663.59</td>\n",
              "      <td>7380500</td>\n",
              "    </tr>\n",
              "    <tr>\n",
              "      <th>1</th>\n",
              "      <td>1/4/2012</td>\n",
              "      <td>331.27</td>\n",
              "      <td>333.87</td>\n",
              "      <td>329.08</td>\n",
              "      <td>666.45</td>\n",
              "      <td>5749400</td>\n",
              "    </tr>\n",
              "    <tr>\n",
              "      <th>2</th>\n",
              "      <td>1/5/2012</td>\n",
              "      <td>329.83</td>\n",
              "      <td>330.75</td>\n",
              "      <td>326.89</td>\n",
              "      <td>657.21</td>\n",
              "      <td>6590300</td>\n",
              "    </tr>\n",
              "    <tr>\n",
              "      <th>3</th>\n",
              "      <td>1/6/2012</td>\n",
              "      <td>328.34</td>\n",
              "      <td>328.77</td>\n",
              "      <td>323.68</td>\n",
              "      <td>648.24</td>\n",
              "      <td>5405900</td>\n",
              "    </tr>\n",
              "    <tr>\n",
              "      <th>4</th>\n",
              "      <td>1/9/2012</td>\n",
              "      <td>322.04</td>\n",
              "      <td>322.29</td>\n",
              "      <td>309.46</td>\n",
              "      <td>620.76</td>\n",
              "      <td>11688800</td>\n",
              "    </tr>\n",
              "    <tr>\n",
              "      <th>...</th>\n",
              "      <td>...</td>\n",
              "      <td>...</td>\n",
              "      <td>...</td>\n",
              "      <td>...</td>\n",
              "      <td>...</td>\n",
              "      <td>...</td>\n",
              "    </tr>\n",
              "    <tr>\n",
              "      <th>1253</th>\n",
              "      <td>12/23/2016</td>\n",
              "      <td>790.90</td>\n",
              "      <td>792.74</td>\n",
              "      <td>787.28</td>\n",
              "      <td>789.91</td>\n",
              "      <td>623400</td>\n",
              "    </tr>\n",
              "    <tr>\n",
              "      <th>1254</th>\n",
              "      <td>12/27/2016</td>\n",
              "      <td>790.68</td>\n",
              "      <td>797.86</td>\n",
              "      <td>787.66</td>\n",
              "      <td>791.55</td>\n",
              "      <td>789100</td>\n",
              "    </tr>\n",
              "    <tr>\n",
              "      <th>1255</th>\n",
              "      <td>12/28/2016</td>\n",
              "      <td>793.70</td>\n",
              "      <td>794.23</td>\n",
              "      <td>783.20</td>\n",
              "      <td>785.05</td>\n",
              "      <td>1153800</td>\n",
              "    </tr>\n",
              "    <tr>\n",
              "      <th>1256</th>\n",
              "      <td>12/29/2016</td>\n",
              "      <td>783.33</td>\n",
              "      <td>785.93</td>\n",
              "      <td>778.92</td>\n",
              "      <td>782.79</td>\n",
              "      <td>744300</td>\n",
              "    </tr>\n",
              "    <tr>\n",
              "      <th>1257</th>\n",
              "      <td>12/30/2016</td>\n",
              "      <td>782.75</td>\n",
              "      <td>782.78</td>\n",
              "      <td>770.41</td>\n",
              "      <td>771.82</td>\n",
              "      <td>1770000</td>\n",
              "    </tr>\n",
              "  </tbody>\n",
              "</table>\n",
              "<p>1258 rows × 6 columns</p>\n",
              "</div>\n",
              "      <button class=\"colab-df-convert\" onclick=\"convertToInteractive('df-e86cfb97-a4fb-4806-b065-6316d0b0c694')\"\n",
              "              title=\"Convert this dataframe to an interactive table.\"\n",
              "              style=\"display:none;\">\n",
              "        \n",
              "  <svg xmlns=\"http://www.w3.org/2000/svg\" height=\"24px\"viewBox=\"0 0 24 24\"\n",
              "       width=\"24px\">\n",
              "    <path d=\"M0 0h24v24H0V0z\" fill=\"none\"/>\n",
              "    <path d=\"M18.56 5.44l.94 2.06.94-2.06 2.06-.94-2.06-.94-.94-2.06-.94 2.06-2.06.94zm-11 1L8.5 8.5l.94-2.06 2.06-.94-2.06-.94L8.5 2.5l-.94 2.06-2.06.94zm10 10l.94 2.06.94-2.06 2.06-.94-2.06-.94-.94-2.06-.94 2.06-2.06.94z\"/><path d=\"M17.41 7.96l-1.37-1.37c-.4-.4-.92-.59-1.43-.59-.52 0-1.04.2-1.43.59L10.3 9.45l-7.72 7.72c-.78.78-.78 2.05 0 2.83L4 21.41c.39.39.9.59 1.41.59.51 0 1.02-.2 1.41-.59l7.78-7.78 2.81-2.81c.8-.78.8-2.07 0-2.86zM5.41 20L4 18.59l7.72-7.72 1.47 1.35L5.41 20z\"/>\n",
              "  </svg>\n",
              "      </button>\n",
              "      \n",
              "  <style>\n",
              "    .colab-df-container {\n",
              "      display:flex;\n",
              "      flex-wrap:wrap;\n",
              "      gap: 12px;\n",
              "    }\n",
              "\n",
              "    .colab-df-convert {\n",
              "      background-color: #E8F0FE;\n",
              "      border: none;\n",
              "      border-radius: 50%;\n",
              "      cursor: pointer;\n",
              "      display: none;\n",
              "      fill: #1967D2;\n",
              "      height: 32px;\n",
              "      padding: 0 0 0 0;\n",
              "      width: 32px;\n",
              "    }\n",
              "\n",
              "    .colab-df-convert:hover {\n",
              "      background-color: #E2EBFA;\n",
              "      box-shadow: 0px 1px 2px rgba(60, 64, 67, 0.3), 0px 1px 3px 1px rgba(60, 64, 67, 0.15);\n",
              "      fill: #174EA6;\n",
              "    }\n",
              "\n",
              "    [theme=dark] .colab-df-convert {\n",
              "      background-color: #3B4455;\n",
              "      fill: #D2E3FC;\n",
              "    }\n",
              "\n",
              "    [theme=dark] .colab-df-convert:hover {\n",
              "      background-color: #434B5C;\n",
              "      box-shadow: 0px 1px 3px 1px rgba(0, 0, 0, 0.15);\n",
              "      filter: drop-shadow(0px 1px 2px rgba(0, 0, 0, 0.3));\n",
              "      fill: #FFFFFF;\n",
              "    }\n",
              "  </style>\n",
              "\n",
              "      <script>\n",
              "        const buttonEl =\n",
              "          document.querySelector('#df-e86cfb97-a4fb-4806-b065-6316d0b0c694 button.colab-df-convert');\n",
              "        buttonEl.style.display =\n",
              "          google.colab.kernel.accessAllowed ? 'block' : 'none';\n",
              "\n",
              "        async function convertToInteractive(key) {\n",
              "          const element = document.querySelector('#df-e86cfb97-a4fb-4806-b065-6316d0b0c694');\n",
              "          const dataTable =\n",
              "            await google.colab.kernel.invokeFunction('convertToInteractive',\n",
              "                                                     [key], {});\n",
              "          if (!dataTable) return;\n",
              "\n",
              "          const docLinkHtml = 'Like what you see? Visit the ' +\n",
              "            '<a target=\"_blank\" href=https://colab.research.google.com/notebooks/data_table.ipynb>data table notebook</a>'\n",
              "            + ' to learn more about interactive tables.';\n",
              "          element.innerHTML = '';\n",
              "          dataTable['output_type'] = 'display_data';\n",
              "          await google.colab.output.renderOutput(dataTable, element);\n",
              "          const docLink = document.createElement('div');\n",
              "          docLink.innerHTML = docLinkHtml;\n",
              "          element.appendChild(docLink);\n",
              "        }\n",
              "      </script>\n",
              "    </div>\n",
              "  </div>\n",
              "  "
            ]
          },
          "metadata": {},
          "execution_count": 5
        }
      ]
    },
    {
      "cell_type": "code",
      "source": [
        "# check for nans\n",
        "raw_dataset_train.info()"
      ],
      "metadata": {
        "colab": {
          "base_uri": "https://localhost:8080/"
        },
        "id": "Rui-Qvs-hq0t",
        "outputId": "30266909-f441-42bf-83d5-f164c1636d1f"
      },
      "execution_count": 6,
      "outputs": [
        {
          "output_type": "stream",
          "name": "stdout",
          "text": [
            "<class 'pandas.core.frame.DataFrame'>\n",
            "RangeIndex: 1258 entries, 0 to 1257\n",
            "Data columns (total 6 columns):\n",
            " #   Column  Non-Null Count  Dtype  \n",
            "---  ------  --------------  -----  \n",
            " 0   Date    1258 non-null   object \n",
            " 1   Open    1258 non-null   float64\n",
            " 2   High    1258 non-null   float64\n",
            " 3   Low     1258 non-null   float64\n",
            " 4   Close   1258 non-null   float64\n",
            " 5   Volume  1258 non-null   int64  \n",
            "dtypes: float64(4), int64(1), object(1)\n",
            "memory usage: 59.1+ KB\n"
          ]
        }
      ]
    },
    {
      "cell_type": "code",
      "source": [
        "raw_dataset_train.describe()"
      ],
      "metadata": {
        "colab": {
          "base_uri": "https://localhost:8080/",
          "height": 300
        },
        "id": "sleMzsDWhq38",
        "outputId": "5bc5dc01-31f6-4f6e-e1cc-296f7547dbc4"
      },
      "execution_count": 7,
      "outputs": [
        {
          "output_type": "execute_result",
          "data": {
            "text/plain": [
              "              Open         High          Low        Close        Volume\n",
              "count  1258.000000  1258.000000  1258.000000  1258.000000  1.258000e+03\n",
              "mean    533.709833   537.880223   529.007409   712.669666  3.158107e+06\n",
              "std     151.904442   153.008811   150.552807   164.752591  2.273726e+06\n",
              "min     279.120000   281.210000   277.220000   491.200000  7.900000e+03\n",
              "25%     404.115000   406.765000   401.765000   576.740000  1.621700e+06\n",
              "50%     537.470000   540.750000   532.990000   695.675000  2.566150e+06\n",
              "75%     654.922500   662.587500   644.800000   782.105000  4.122500e+06\n",
              "max     816.680000   816.680000   805.140000  1216.830000  2.497790e+07"
            ],
            "text/html": [
              "\n",
              "  <div id=\"df-7d0a7936-d3a9-493e-bf11-8a78901dc364\">\n",
              "    <div class=\"colab-df-container\">\n",
              "      <div>\n",
              "<style scoped>\n",
              "    .dataframe tbody tr th:only-of-type {\n",
              "        vertical-align: middle;\n",
              "    }\n",
              "\n",
              "    .dataframe tbody tr th {\n",
              "        vertical-align: top;\n",
              "    }\n",
              "\n",
              "    .dataframe thead th {\n",
              "        text-align: right;\n",
              "    }\n",
              "</style>\n",
              "<table border=\"1\" class=\"dataframe\">\n",
              "  <thead>\n",
              "    <tr style=\"text-align: right;\">\n",
              "      <th></th>\n",
              "      <th>Open</th>\n",
              "      <th>High</th>\n",
              "      <th>Low</th>\n",
              "      <th>Close</th>\n",
              "      <th>Volume</th>\n",
              "    </tr>\n",
              "  </thead>\n",
              "  <tbody>\n",
              "    <tr>\n",
              "      <th>count</th>\n",
              "      <td>1258.000000</td>\n",
              "      <td>1258.000000</td>\n",
              "      <td>1258.000000</td>\n",
              "      <td>1258.000000</td>\n",
              "      <td>1.258000e+03</td>\n",
              "    </tr>\n",
              "    <tr>\n",
              "      <th>mean</th>\n",
              "      <td>533.709833</td>\n",
              "      <td>537.880223</td>\n",
              "      <td>529.007409</td>\n",
              "      <td>712.669666</td>\n",
              "      <td>3.158107e+06</td>\n",
              "    </tr>\n",
              "    <tr>\n",
              "      <th>std</th>\n",
              "      <td>151.904442</td>\n",
              "      <td>153.008811</td>\n",
              "      <td>150.552807</td>\n",
              "      <td>164.752591</td>\n",
              "      <td>2.273726e+06</td>\n",
              "    </tr>\n",
              "    <tr>\n",
              "      <th>min</th>\n",
              "      <td>279.120000</td>\n",
              "      <td>281.210000</td>\n",
              "      <td>277.220000</td>\n",
              "      <td>491.200000</td>\n",
              "      <td>7.900000e+03</td>\n",
              "    </tr>\n",
              "    <tr>\n",
              "      <th>25%</th>\n",
              "      <td>404.115000</td>\n",
              "      <td>406.765000</td>\n",
              "      <td>401.765000</td>\n",
              "      <td>576.740000</td>\n",
              "      <td>1.621700e+06</td>\n",
              "    </tr>\n",
              "    <tr>\n",
              "      <th>50%</th>\n",
              "      <td>537.470000</td>\n",
              "      <td>540.750000</td>\n",
              "      <td>532.990000</td>\n",
              "      <td>695.675000</td>\n",
              "      <td>2.566150e+06</td>\n",
              "    </tr>\n",
              "    <tr>\n",
              "      <th>75%</th>\n",
              "      <td>654.922500</td>\n",
              "      <td>662.587500</td>\n",
              "      <td>644.800000</td>\n",
              "      <td>782.105000</td>\n",
              "      <td>4.122500e+06</td>\n",
              "    </tr>\n",
              "    <tr>\n",
              "      <th>max</th>\n",
              "      <td>816.680000</td>\n",
              "      <td>816.680000</td>\n",
              "      <td>805.140000</td>\n",
              "      <td>1216.830000</td>\n",
              "      <td>2.497790e+07</td>\n",
              "    </tr>\n",
              "  </tbody>\n",
              "</table>\n",
              "</div>\n",
              "      <button class=\"colab-df-convert\" onclick=\"convertToInteractive('df-7d0a7936-d3a9-493e-bf11-8a78901dc364')\"\n",
              "              title=\"Convert this dataframe to an interactive table.\"\n",
              "              style=\"display:none;\">\n",
              "        \n",
              "  <svg xmlns=\"http://www.w3.org/2000/svg\" height=\"24px\"viewBox=\"0 0 24 24\"\n",
              "       width=\"24px\">\n",
              "    <path d=\"M0 0h24v24H0V0z\" fill=\"none\"/>\n",
              "    <path d=\"M18.56 5.44l.94 2.06.94-2.06 2.06-.94-2.06-.94-.94-2.06-.94 2.06-2.06.94zm-11 1L8.5 8.5l.94-2.06 2.06-.94-2.06-.94L8.5 2.5l-.94 2.06-2.06.94zm10 10l.94 2.06.94-2.06 2.06-.94-2.06-.94-.94-2.06-.94 2.06-2.06.94z\"/><path d=\"M17.41 7.96l-1.37-1.37c-.4-.4-.92-.59-1.43-.59-.52 0-1.04.2-1.43.59L10.3 9.45l-7.72 7.72c-.78.78-.78 2.05 0 2.83L4 21.41c.39.39.9.59 1.41.59.51 0 1.02-.2 1.41-.59l7.78-7.78 2.81-2.81c.8-.78.8-2.07 0-2.86zM5.41 20L4 18.59l7.72-7.72 1.47 1.35L5.41 20z\"/>\n",
              "  </svg>\n",
              "      </button>\n",
              "      \n",
              "  <style>\n",
              "    .colab-df-container {\n",
              "      display:flex;\n",
              "      flex-wrap:wrap;\n",
              "      gap: 12px;\n",
              "    }\n",
              "\n",
              "    .colab-df-convert {\n",
              "      background-color: #E8F0FE;\n",
              "      border: none;\n",
              "      border-radius: 50%;\n",
              "      cursor: pointer;\n",
              "      display: none;\n",
              "      fill: #1967D2;\n",
              "      height: 32px;\n",
              "      padding: 0 0 0 0;\n",
              "      width: 32px;\n",
              "    }\n",
              "\n",
              "    .colab-df-convert:hover {\n",
              "      background-color: #E2EBFA;\n",
              "      box-shadow: 0px 1px 2px rgba(60, 64, 67, 0.3), 0px 1px 3px 1px rgba(60, 64, 67, 0.15);\n",
              "      fill: #174EA6;\n",
              "    }\n",
              "\n",
              "    [theme=dark] .colab-df-convert {\n",
              "      background-color: #3B4455;\n",
              "      fill: #D2E3FC;\n",
              "    }\n",
              "\n",
              "    [theme=dark] .colab-df-convert:hover {\n",
              "      background-color: #434B5C;\n",
              "      box-shadow: 0px 1px 3px 1px rgba(0, 0, 0, 0.15);\n",
              "      filter: drop-shadow(0px 1px 2px rgba(0, 0, 0, 0.3));\n",
              "      fill: #FFFFFF;\n",
              "    }\n",
              "  </style>\n",
              "\n",
              "      <script>\n",
              "        const buttonEl =\n",
              "          document.querySelector('#df-7d0a7936-d3a9-493e-bf11-8a78901dc364 button.colab-df-convert');\n",
              "        buttonEl.style.display =\n",
              "          google.colab.kernel.accessAllowed ? 'block' : 'none';\n",
              "\n",
              "        async function convertToInteractive(key) {\n",
              "          const element = document.querySelector('#df-7d0a7936-d3a9-493e-bf11-8a78901dc364');\n",
              "          const dataTable =\n",
              "            await google.colab.kernel.invokeFunction('convertToInteractive',\n",
              "                                                     [key], {});\n",
              "          if (!dataTable) return;\n",
              "\n",
              "          const docLinkHtml = 'Like what you see? Visit the ' +\n",
              "            '<a target=\"_blank\" href=https://colab.research.google.com/notebooks/data_table.ipynb>data table notebook</a>'\n",
              "            + ' to learn more about interactive tables.';\n",
              "          element.innerHTML = '';\n",
              "          dataTable['output_type'] = 'display_data';\n",
              "          await google.colab.output.renderOutput(dataTable, element);\n",
              "          const docLink = document.createElement('div');\n",
              "          docLink.innerHTML = docLinkHtml;\n",
              "          element.appendChild(docLink);\n",
              "        }\n",
              "      </script>\n",
              "    </div>\n",
              "  </div>\n",
              "  "
            ]
          },
          "metadata": {},
          "execution_count": 7
        }
      ]
    },
    {
      "cell_type": "code",
      "source": [
        "raw_dataset_train[['Open', 'High', 'Low', 'Close']].boxplot()"
      ],
      "metadata": {
        "colab": {
          "base_uri": "https://localhost:8080/",
          "height": 282
        },
        "id": "QQEg8Z7Rhq9G",
        "outputId": "a2bb3e98-e10a-4a3d-fd1e-bac12c135cc6"
      },
      "execution_count": 8,
      "outputs": [
        {
          "output_type": "execute_result",
          "data": {
            "text/plain": [
              "<matplotlib.axes._subplots.AxesSubplot at 0x7fa7364b7810>"
            ]
          },
          "metadata": {},
          "execution_count": 8
        },
        {
          "output_type": "display_data",
          "data": {
            "text/plain": [
              "<Figure size 432x288 with 1 Axes>"
            ],
            "image/png": "[encoded data removed]"
          },
          "metadata": {
            "needs_background": "light"
          }
        }
      ]
    },
    {
      "cell_type": "code",
      "source": [
        "raw_dataset_train[['Volume']].boxplot()"
      ],
      "metadata": {
        "colab": {
          "base_uri": "https://localhost:8080/",
          "height": 294
        },
        "id": "5HkxE_ocwsWM",
        "outputId": "9c0f2f43-60ca-4284-a9a5-8a36b324f0ff"
      },
      "execution_count": 9,
      "outputs": [
        {
          "output_type": "execute_result",
          "data": {
            "text/plain": [
              "<matplotlib.axes._subplots.AxesSubplot at 0x7fa73632db90>"
            ]
          },
          "metadata": {},
          "execution_count": 9
        },
        {
          "output_type": "display_data",
          "data": {
            "text/plain": [
              "<Figure size 432x288 with 1 Axes>"
            ],
            "image/png": "[encoded data removed]"
          },
          "metadata": {
            "needs_background": "light"
          }
        }
      ]
    },
    {
      "cell_type": "code",
      "source": [
        "raw_dataset_train.hist()"
      ],
      "metadata": {
        "colab": {
          "base_uri": "https://localhost:8080/",
          "height": 415
        },
        "id": "iRi9FWQ3hrAU",
        "outputId": "bbe6d136-4bfd-4ea9-ee2e-f8a284a6c22f"
      },
      "execution_count": 10,
      "outputs": [
        {
          "output_type": "execute_result",
          "data": {
            "text/plain": [
              "array([[<matplotlib.axes._subplots.AxesSubplot object at 0x7fa735e05790>,\n",
              "        <matplotlib.axes._subplots.AxesSubplot object at 0x7fa735dc0790>],\n",
              "       [<matplotlib.axes._subplots.AxesSubplot object at 0x7fa735d75d90>,\n",
              "        <matplotlib.axes._subplots.AxesSubplot object at 0x7fa735d3c410>],\n",
              "       [<matplotlib.axes._subplots.AxesSubplot object at 0x7fa735cf1a10>,\n",
              "        <matplotlib.axes._subplots.AxesSubplot object at 0x7fa735caafd0>]],\n",
              "      dtype=object)"
            ]
          },
          "metadata": {},
          "execution_count": 10
        },
        {
          "output_type": "display_data",
          "data": {
            "text/plain": [
              "<Figure size 432x288 with 6 Axes>"
            ],
            "image/png": "[encoded data removed]"
          },
          "metadata": {
            "needs_background": "light"
          }
        }
      ]
    },
    {
      "cell_type": "code",
      "source": [
        "# test data\n",
        "raw_dataset_test"
      ],
      "metadata": {
        "colab": {
          "base_uri": "https://localhost:8080/",
          "height": 676
        },
        "id": "lL9sp1mkhrIs",
        "outputId": "1fcdad89-2ec1-4622-aa54-2a92c16db54a"
      },
      "execution_count": 11,
      "outputs": [
        {
          "output_type": "execute_result",
          "data": {
            "text/plain": [
              "         Date    Open    High     Low   Close   Volume\n",
              "0    1/3/2017  778.81  789.63  775.80  786.14  1657300\n",
              "1    1/4/2017  788.36  791.34  783.16  786.90  1073000\n",
              "2    1/5/2017  786.08  794.48  785.02  794.02  1335200\n",
              "3    1/6/2017  795.26  807.90  792.20  806.15  1640200\n",
              "4    1/9/2017  806.40  809.97  802.83  806.65  1272400\n",
              "5   1/10/2017  807.86  809.13  803.51  804.79  1176800\n",
              "6   1/11/2017  805.00  808.15  801.37  807.91  1065900\n",
              "7   1/12/2017  807.14  807.39  799.17  806.36  1353100\n",
              "8   1/13/2017  807.48  811.22  806.69  807.88  1099200\n",
              "9   1/17/2017  807.08  807.14  800.37  804.61  1362100\n",
              "10  1/18/2017  805.81  806.21  800.99  806.07  1294400\n",
              "11  1/19/2017  805.12  809.48  801.80  802.17   919300\n",
              "12  1/20/2017  806.91  806.91  801.69  805.02  1670000\n",
              "13  1/23/2017  807.25  820.87  803.74  819.31  1963600\n",
              "14  1/24/2017  822.30  825.90  817.82  823.87  1474000\n",
              "15  1/25/2017  829.62  835.77  825.06  835.67  1494500\n",
              "16  1/26/2017  837.81  838.00  827.01  832.15  2973900\n",
              "17  1/27/2017  834.71  841.95  820.44  823.31  2965800\n",
              "18  1/30/2017  814.66  815.84  799.80  802.32  3246600\n",
              "19  1/31/2017  796.86  801.25  790.52  796.79  2160600"
            ],
            "text/html": [
              "\n",
              "  <div id=\"df-aa8f0ebb-85e7-4879-9a8e-bd364f8e25f8\">\n",
              "    <div class=\"colab-df-container\">\n",
              "      <div>\n",
              "<style scoped>\n",
              "    .dataframe tbody tr th:only-of-type {\n",
              "        vertical-align: middle;\n",
              "    }\n",
              "\n",
              "    .dataframe tbody tr th {\n",
              "        vertical-align: top;\n",
              "    }\n",
              "\n",
              "    .dataframe thead th {\n",
              "        text-align: right;\n",
              "    }\n",
              "</style>\n",
              "<table border=\"1\" class=\"dataframe\">\n",
              "  <thead>\n",
              "    <tr style=\"text-align: right;\">\n",
              "      <th></th>\n",
              "      <th>Date</th>\n",
              "      <th>Open</th>\n",
              "      <th>High</th>\n",
              "      <th>Low</th>\n",
              "      <th>Close</th>\n",
              "      <th>Volume</th>\n",
              "    </tr>\n",
              "  </thead>\n",
              "  <tbody>\n",
              "    <tr>\n",
              "      <th>0</th>\n",
              "      <td>1/3/2017</td>\n",
              "      <td>778.81</td>\n",
              "      <td>789.63</td>\n",
              "      <td>775.80</td>\n",
              "      <td>786.14</td>\n",
              "      <td>1657300</td>\n",
              "    </tr>\n",
              "    <tr>\n",
              "      <th>1</th>\n",
              "      <td>1/4/2017</td>\n",
              "      <td>788.36</td>\n",
              "      <td>791.34</td>\n",
              "      <td>783.16</td>\n",
              "      <td>786.90</td>\n",
              "      <td>1073000</td>\n",
              "    </tr>\n",
              "    <tr>\n",
              "      <th>2</th>\n",
              "      <td>1/5/2017</td>\n",
              "      <td>786.08</td>\n",
              "      <td>794.48</td>\n",
              "      <td>785.02</td>\n",
              "      <td>794.02</td>\n",
              "      <td>1335200</td>\n",
              "    </tr>\n",
              "    <tr>\n",
              "      <th>3</th>\n",
              "      <td>1/6/2017</td>\n",
              "      <td>795.26</td>\n",
              "      <td>807.90</td>\n",
              "      <td>792.20</td>\n",
              "      <td>806.15</td>\n",
              "      <td>1640200</td>\n",
              "    </tr>\n",
              "    <tr>\n",
              "      <th>4</th>\n",
              "      <td>1/9/2017</td>\n",
              "      <td>806.40</td>\n",
              "      <td>809.97</td>\n",
              "      <td>802.83</td>\n",
              "      <td>806.65</td>\n",
              "      <td>1272400</td>\n",
              "    </tr>\n",
              "    <tr>\n",
              "      <th>5</th>\n",
              "      <td>1/10/2017</td>\n",
              "      <td>807.86</td>\n",
              "      <td>809.13</td>\n",
              "      <td>803.51</td>\n",
              "      <td>804.79</td>\n",
              "      <td>1176800</td>\n",
              "    </tr>\n",
              "    <tr>\n",
              "      <th>6</th>\n",
              "      <td>1/11/2017</td>\n",
              "      <td>805.00</td>\n",
              "      <td>808.15</td>\n",
              "      <td>801.37</td>\n",
              "      <td>807.91</td>\n",
              "      <td>1065900</td>\n",
              "    </tr>\n",
              "    <tr>\n",
              "      <th>7</th>\n",
              "      <td>1/12/2017</td>\n",
              "      <td>807.14</td>\n",
              "      <td>807.39</td>\n",
              "      <td>799.17</td>\n",
              "      <td>806.36</td>\n",
              "      <td>1353100</td>\n",
              "    </tr>\n",
              "    <tr>\n",
              "      <th>8</th>\n",
              "      <td>1/13/2017</td>\n",
              "      <td>807.48</td>\n",
              "      <td>811.22</td>\n",
              "      <td>806.69</td>\n",
              "      <td>807.88</td>\n",
              "      <td>1099200</td>\n",
              "    </tr>\n",
              "    <tr>\n",
              "      <th>9</th>\n",
              "      <td>1/17/2017</td>\n",
              "      <td>807.08</td>\n",
              "      <td>807.14</td>\n",
              "      <td>800.37</td>\n",
              "      <td>804.61</td>\n",
              "      <td>1362100</td>\n",
              "    </tr>\n",
              "    <tr>\n",
              "      <th>10</th>\n",
              "      <td>1/18/2017</td>\n",
              "      <td>805.81</td>\n",
              "      <td>806.21</td>\n",
              "      <td>800.99</td>\n",
              "      <td>806.07</td>\n",
              "      <td>1294400</td>\n",
              "    </tr>\n",
              "    <tr>\n",
              "      <th>11</th>\n",
              "      <td>1/19/2017</td>\n",
              "      <td>805.12</td>\n",
              "      <td>809.48</td>\n",
              "      <td>801.80</td>\n",
              "      <td>802.17</td>\n",
              "      <td>919300</td>\n",
              "    </tr>\n",
              "    <tr>\n",
              "      <th>12</th>\n",
              "      <td>1/20/2017</td>\n",
              "      <td>806.91</td>\n",
              "      <td>806.91</td>\n",
              "      <td>801.69</td>\n",
              "      <td>805.02</td>\n",
              "      <td>1670000</td>\n",
              "    </tr>\n",
              "    <tr>\n",
              "      <th>13</th>\n",
              "      <td>1/23/2017</td>\n",
              "      <td>807.25</td>\n",
              "      <td>820.87</td>\n",
              "      <td>803.74</td>\n",
              "      <td>819.31</td>\n",
              "      <td>1963600</td>\n",
              "    </tr>\n",
              "    <tr>\n",
              "      <th>14</th>\n",
              "      <td>1/24/2017</td>\n",
              "      <td>822.30</td>\n",
              "      <td>825.90</td>\n",
              "      <td>817.82</td>\n",
              "      <td>823.87</td>\n",
              "      <td>1474000</td>\n",
              "    </tr>\n",
              "    <tr>\n",
              "      <th>15</th>\n",
              "      <td>1/25/2017</td>\n",
              "      <td>829.62</td>\n",
              "      <td>835.77</td>\n",
              "      <td>825.06</td>\n",
              "      <td>835.67</td>\n",
              "      <td>1494500</td>\n",
              "    </tr>\n",
              "    <tr>\n",
              "      <th>16</th>\n",
              "      <td>1/26/2017</td>\n",
              "      <td>837.81</td>\n",
              "      <td>838.00</td>\n",
              "      <td>827.01</td>\n",
              "      <td>832.15</td>\n",
              "      <td>2973900</td>\n",
              "    </tr>\n",
              "    <tr>\n",
              "      <th>17</th>\n",
              "      <td>1/27/2017</td>\n",
              "      <td>834.71</td>\n",
              "      <td>841.95</td>\n",
              "      <td>820.44</td>\n",
              "      <td>823.31</td>\n",
              "      <td>2965800</td>\n",
              "    </tr>\n",
              "    <tr>\n",
              "      <th>18</th>\n",
              "      <td>1/30/2017</td>\n",
              "      <td>814.66</td>\n",
              "      <td>815.84</td>\n",
              "      <td>799.80</td>\n",
              "      <td>802.32</td>\n",
              "      <td>3246600</td>\n",
              "    </tr>\n",
              "    <tr>\n",
              "      <th>19</th>\n",
              "      <td>1/31/2017</td>\n",
              "      <td>796.86</td>\n",
              "      <td>801.25</td>\n",
              "      <td>790.52</td>\n",
              "      <td>796.79</td>\n",
              "      <td>2160600</td>\n",
              "    </tr>\n",
              "  </tbody>\n",
              "</table>\n",
              "</div>\n",
              "      <button class=\"colab-df-convert\" onclick=\"convertToInteractive('df-aa8f0ebb-85e7-4879-9a8e-bd364f8e25f8')\"\n",
              "              title=\"Convert this dataframe to an interactive table.\"\n",
              "              style=\"display:none;\">\n",
              "        \n",
              "  <svg xmlns=\"http://www.w3.org/2000/svg\" height=\"24px\"viewBox=\"0 0 24 24\"\n",
              "       width=\"24px\">\n",
              "    <path d=\"M0 0h24v24H0V0z\" fill=\"none\"/>\n",
              "    <path d=\"M18.56 5.44l.94 2.06.94-2.06 2.06-.94-2.06-.94-.94-2.06-.94 2.06-2.06.94zm-11 1L8.5 8.5l.94-2.06 2.06-.94-2.06-.94L8.5 2.5l-.94 2.06-2.06.94zm10 10l.94 2.06.94-2.06 2.06-.94-2.06-.94-.94-2.06-.94 2.06-2.06.94z\"/><path d=\"M17.41 7.96l-1.37-1.37c-.4-.4-.92-.59-1.43-.59-.52 0-1.04.2-1.43.59L10.3 9.45l-7.72 7.72c-.78.78-.78 2.05 0 2.83L4 21.41c.39.39.9.59 1.41.59.51 0 1.02-.2 1.41-.59l7.78-7.78 2.81-2.81c.8-.78.8-2.07 0-2.86zM5.41 20L4 18.59l7.72-7.72 1.47 1.35L5.41 20z\"/>\n",
              "  </svg>\n",
              "      </button>\n",
              "      \n",
              "  <style>\n",
              "    .colab-df-container {\n",
              "      display:flex;\n",
              "      flex-wrap:wrap;\n",
              "      gap: 12px;\n",
              "    }\n",
              "\n",
              "    .colab-df-convert {\n",
              "      background-color: #E8F0FE;\n",
              "      border: none;\n",
              "      border-radius: 50%;\n",
              "      cursor: pointer;\n",
              "      display: none;\n",
              "      fill: #1967D2;\n",
              "      height: 32px;\n",
              "      padding: 0 0 0 0;\n",
              "      width: 32px;\n",
              "    }\n",
              "\n",
              "    .colab-df-convert:hover {\n",
              "      background-color: #E2EBFA;\n",
              "      box-shadow: 0px 1px 2px rgba(60, 64, 67, 0.3), 0px 1px 3px 1px rgba(60, 64, 67, 0.15);\n",
              "      fill: #174EA6;\n",
              "    }\n",
              "\n",
              "    [theme=dark] .colab-df-convert {\n",
              "      background-color: #3B4455;\n",
              "      fill: #D2E3FC;\n",
              "    }\n",
              "\n",
              "    [theme=dark] .colab-df-convert:hover {\n",
              "      background-color: #434B5C;\n",
              "      box-shadow: 0px 1px 3px 1px rgba(0, 0, 0, 0.15);\n",
              "      filter: drop-shadow(0px 1px 2px rgba(0, 0, 0, 0.3));\n",
              "      fill: #FFFFFF;\n",
              "    }\n",
              "  </style>\n",
              "\n",
              "      <script>\n",
              "        const buttonEl =\n",
              "          document.querySelector('#df-aa8f0ebb-85e7-4879-9a8e-bd364f8e25f8 button.colab-df-convert');\n",
              "        buttonEl.style.display =\n",
              "          google.colab.kernel.accessAllowed ? 'block' : 'none';\n",
              "\n",
              "        async function convertToInteractive(key) {\n",
              "          const element = document.querySelector('#df-aa8f0ebb-85e7-4879-9a8e-bd364f8e25f8');\n",
              "          const dataTable =\n",
              "            await google.colab.kernel.invokeFunction('convertToInteractive',\n",
              "                                                     [key], {});\n",
              "          if (!dataTable) return;\n",
              "\n",
              "          const docLinkHtml = 'Like what you see? Visit the ' +\n",
              "            '<a target=\"_blank\" href=https://colab.research.google.com/notebooks/data_table.ipynb>data table notebook</a>'\n",
              "            + ' to learn more about interactive tables.';\n",
              "          element.innerHTML = '';\n",
              "          dataTable['output_type'] = 'display_data';\n",
              "          await google.colab.output.renderOutput(dataTable, element);\n",
              "          const docLink = document.createElement('div');\n",
              "          docLink.innerHTML = docLinkHtml;\n",
              "          element.appendChild(docLink);\n",
              "        }\n",
              "      </script>\n",
              "    </div>\n",
              "  </div>\n",
              "  "
            ]
          },
          "metadata": {},
          "execution_count": 11
        }
      ]
    },
    {
      "cell_type": "code",
      "source": [
        "# nan in test data\n",
        "raw_dataset_test.info()"
      ],
      "metadata": {
        "colab": {
          "base_uri": "https://localhost:8080/"
        },
        "id": "uqPmTFH_tSAH",
        "outputId": "d3b2f3c9-c08d-46f9-f72c-add1941fd177"
      },
      "execution_count": 12,
      "outputs": [
        {
          "output_type": "stream",
          "name": "stdout",
          "text": [
            "<class 'pandas.core.frame.DataFrame'>\n",
            "RangeIndex: 20 entries, 0 to 19\n",
            "Data columns (total 6 columns):\n",
            " #   Column  Non-Null Count  Dtype  \n",
            "---  ------  --------------  -----  \n",
            " 0   Date    20 non-null     object \n",
            " 1   Open    20 non-null     float64\n",
            " 2   High    20 non-null     float64\n",
            " 3   Low     20 non-null     float64\n",
            " 4   Close   20 non-null     float64\n",
            " 5   Volume  20 non-null     int64  \n",
            "dtypes: float64(4), int64(1), object(1)\n",
            "memory usage: 1.1+ KB\n"
          ]
        }
      ]
    },
    {
      "cell_type": "code",
      "source": [
        "raw_dataset_test.describe()"
      ],
      "metadata": {
        "colab": {
          "base_uri": "https://localhost:8080/",
          "height": 300
        },
        "id": "GeUKeceGtSC9",
        "outputId": "5e36930a-c1f1-419f-fd1e-ddb00d8b5fde"
      },
      "execution_count": 13,
      "outputs": [
        {
          "output_type": "execute_result",
          "data": {
            "text/plain": [
              "             Open        High         Low       Close        Volume\n",
              "count   20.000000   20.000000   20.000000   20.000000  2.000000e+01\n",
              "mean   807.526000  811.926500  801.949500  807.904500  1.659895e+06\n",
              "std     15.125428   14.381198   13.278607   13.210088  6.774747e+05\n",
              "min    778.810000  789.630000  775.800000  786.140000  9.193000e+05\n",
              "25%    802.965000  806.735000  797.427500  802.282500  1.248500e+06\n",
              "50%    806.995000  808.640000  801.530000  806.110000  1.418050e+06\n",
              "75%    809.560000  817.097500  804.477500  810.760000  1.743400e+06\n",
              "max    837.810000  841.950000  827.010000  835.670000  3.246600e+06"
            ],
            "text/html": [
              "\n",
              "  <div id=\"df-8e467021-09a2-406c-a4b2-33cc6c2efb7e\">\n",
              "    <div class=\"colab-df-container\">\n",
              "      <div>\n",
              "<style scoped>\n",
              "    .dataframe tbody tr th:only-of-type {\n",
              "        vertical-align: middle;\n",
              "    }\n",
              "\n",
              "    .dataframe tbody tr th {\n",
              "        vertical-align: top;\n",
              "    }\n",
              "\n",
              "    .dataframe thead th {\n",
              "        text-align: right;\n",
              "    }\n",
              "</style>\n",
              "<table border=\"1\" class=\"dataframe\">\n",
              "  <thead>\n",
              "    <tr style=\"text-align: right;\">\n",
              "      <th></th>\n",
              "      <th>Open</th>\n",
              "      <th>High</th>\n",
              "      <th>Low</th>\n",
              "      <th>Close</th>\n",
              "      <th>Volume</th>\n",
              "    </tr>\n",
              "  </thead>\n",
              "  <tbody>\n",
              "    <tr>\n",
              "      <th>count</th>\n",
              "      <td>20.000000</td>\n",
              "      <td>20.000000</td>\n",
              "      <td>20.000000</td>\n",
              "      <td>20.000000</td>\n",
              "      <td>2.000000e+01</td>\n",
              "    </tr>\n",
              "    <tr>\n",
              "      <th>mean</th>\n",
              "      <td>807.526000</td>\n",
              "      <td>811.926500</td>\n",
              "      <td>801.949500</td>\n",
              "      <td>807.904500</td>\n",
              "      <td>1.659895e+06</td>\n",
              "    </tr>\n",
              "    <tr>\n",
              "      <th>std</th>\n",
              "      <td>15.125428</td>\n",
              "      <td>14.381198</td>\n",
              "      <td>13.278607</td>\n",
              "      <td>13.210088</td>\n",
              "      <td>6.774747e+05</td>\n",
              "    </tr>\n",
              "    <tr>\n",
              "      <th>min</th>\n",
              "      <td>778.810000</td>\n",
              "      <td>789.630000</td>\n",
              "      <td>775.800000</td>\n",
              "      <td>786.140000</td>\n",
              "      <td>9.193000e+05</td>\n",
              "    </tr>\n",
              "    <tr>\n",
              "      <th>25%</th>\n",
              "      <td>802.965000</td>\n",
              "      <td>806.735000</td>\n",
              "      <td>797.427500</td>\n",
              "      <td>802.282500</td>\n",
              "      <td>1.248500e+06</td>\n",
              "    </tr>\n",
              "    <tr>\n",
              "      <th>50%</th>\n",
              "      <td>806.995000</td>\n",
              "      <td>808.640000</td>\n",
              "      <td>801.530000</td>\n",
              "      <td>806.110000</td>\n",
              "      <td>1.418050e+06</td>\n",
              "    </tr>\n",
              "    <tr>\n",
              "      <th>75%</th>\n",
              "      <td>809.560000</td>\n",
              "      <td>817.097500</td>\n",
              "      <td>804.477500</td>\n",
              "      <td>810.760000</td>\n",
              "      <td>1.743400e+06</td>\n",
              "    </tr>\n",
              "    <tr>\n",
              "      <th>max</th>\n",
              "      <td>837.810000</td>\n",
              "      <td>841.950000</td>\n",
              "      <td>827.010000</td>\n",
              "      <td>835.670000</td>\n",
              "      <td>3.246600e+06</td>\n",
              "    </tr>\n",
              "  </tbody>\n",
              "</table>\n",
              "</div>\n",
              "      <button class=\"colab-df-convert\" onclick=\"convertToInteractive('df-8e467021-09a2-406c-a4b2-33cc6c2efb7e')\"\n",
              "              title=\"Convert this dataframe to an interactive table.\"\n",
              "              style=\"display:none;\">\n",
              "        \n",
              "  <svg xmlns=\"http://www.w3.org/2000/svg\" height=\"24px\"viewBox=\"0 0 24 24\"\n",
              "       width=\"24px\">\n",
              "    <path d=\"M0 0h24v24H0V0z\" fill=\"none\"/>\n",
              "    <path d=\"M18.56 5.44l.94 2.06.94-2.06 2.06-.94-2.06-.94-.94-2.06-.94 2.06-2.06.94zm-11 1L8.5 8.5l.94-2.06 2.06-.94-2.06-.94L8.5 2.5l-.94 2.06-2.06.94zm10 10l.94 2.06.94-2.06 2.06-.94-2.06-.94-.94-2.06-.94 2.06-2.06.94z\"/><path d=\"M17.41 7.96l-1.37-1.37c-.4-.4-.92-.59-1.43-.59-.52 0-1.04.2-1.43.59L10.3 9.45l-7.72 7.72c-.78.78-.78 2.05 0 2.83L4 21.41c.39.39.9.59 1.41.59.51 0 1.02-.2 1.41-.59l7.78-7.78 2.81-2.81c.8-.78.8-2.07 0-2.86zM5.41 20L4 18.59l7.72-7.72 1.47 1.35L5.41 20z\"/>\n",
              "  </svg>\n",
              "      </button>\n",
              "      \n",
              "  <style>\n",
              "    .colab-df-container {\n",
              "      display:flex;\n",
              "      flex-wrap:wrap;\n",
              "      gap: 12px;\n",
              "    }\n",
              "\n",
              "    .colab-df-convert {\n",
              "      background-color: #E8F0FE;\n",
              "      border: none;\n",
              "      border-radius: 50%;\n",
              "      cursor: pointer;\n",
              "      display: none;\n",
              "      fill: #1967D2;\n",
              "      height: 32px;\n",
              "      padding: 0 0 0 0;\n",
              "      width: 32px;\n",
              "    }\n",
              "\n",
              "    .colab-df-convert:hover {\n",
              "      background-color: #E2EBFA;\n",
              "      box-shadow: 0px 1px 2px rgba(60, 64, 67, 0.3), 0px 1px 3px 1px rgba(60, 64, 67, 0.15);\n",
              "      fill: #174EA6;\n",
              "    }\n",
              "\n",
              "    [theme=dark] .colab-df-convert {\n",
              "      background-color: #3B4455;\n",
              "      fill: #D2E3FC;\n",
              "    }\n",
              "\n",
              "    [theme=dark] .colab-df-convert:hover {\n",
              "      background-color: #434B5C;\n",
              "      box-shadow: 0px 1px 3px 1px rgba(0, 0, 0, 0.15);\n",
              "      filter: drop-shadow(0px 1px 2px rgba(0, 0, 0, 0.3));\n",
              "      fill: #FFFFFF;\n",
              "    }\n",
              "  </style>\n",
              "\n",
              "      <script>\n",
              "        const buttonEl =\n",
              "          document.querySelector('#df-8e467021-09a2-406c-a4b2-33cc6c2efb7e button.colab-df-convert');\n",
              "        buttonEl.style.display =\n",
              "          google.colab.kernel.accessAllowed ? 'block' : 'none';\n",
              "\n",
              "        async function convertToInteractive(key) {\n",
              "          const element = document.querySelector('#df-8e467021-09a2-406c-a4b2-33cc6c2efb7e');\n",
              "          const dataTable =\n",
              "            await google.colab.kernel.invokeFunction('convertToInteractive',\n",
              "                                                     [key], {});\n",
              "          if (!dataTable) return;\n",
              "\n",
              "          const docLinkHtml = 'Like what you see? Visit the ' +\n",
              "            '<a target=\"_blank\" href=https://colab.research.google.com/notebooks/data_table.ipynb>data table notebook</a>'\n",
              "            + ' to learn more about interactive tables.';\n",
              "          element.innerHTML = '';\n",
              "          dataTable['output_type'] = 'display_data';\n",
              "          await google.colab.output.renderOutput(dataTable, element);\n",
              "          const docLink = document.createElement('div');\n",
              "          docLink.innerHTML = docLinkHtml;\n",
              "          element.appendChild(docLink);\n",
              "        }\n",
              "      </script>\n",
              "    </div>\n",
              "  </div>\n",
              "  "
            ]
          },
          "metadata": {},
          "execution_count": 13
        }
      ]
    },
    {
      "cell_type": "code",
      "source": [
        "raw_dataset_test[['Open', 'High', 'Low', 'Close']].boxplot()"
      ],
      "metadata": {
        "colab": {
          "base_uri": "https://localhost:8080/",
          "height": 282
        },
        "id": "Qyb3q1XBtbDp",
        "outputId": "6d563960-d8c6-4a8e-eade-d846bee58363"
      },
      "execution_count": 14,
      "outputs": [
        {
          "output_type": "execute_result",
          "data": {
            "text/plain": [
              "<matplotlib.axes._subplots.AxesSubplot at 0x7fa735b45f10>"
            ]
          },
          "metadata": {},
          "execution_count": 14
        },
        {
          "output_type": "display_data",
          "data": {
            "text/plain": [
              "<Figure size 432x288 with 1 Axes>"
            ],
            "image/png": "[encoded data removed]"
          },
          "metadata": {
            "needs_background": "light"
          }
        }
      ]
    },
    {
      "cell_type": "code",
      "source": [
        "raw_dataset_test[['Volume']].boxplot()"
      ],
      "metadata": {
        "colab": {
          "base_uri": "https://localhost:8080/",
          "height": 294
        },
        "id": "JMIoNLQtwzDm",
        "outputId": "9f18ec32-89e9-46af-cc1b-19f8a71657da"
      },
      "execution_count": 15,
      "outputs": [
        {
          "output_type": "execute_result",
          "data": {
            "text/plain": [
              "<matplotlib.axes._subplots.AxesSubplot at 0x7fa735b9e890>"
            ]
          },
          "metadata": {},
          "execution_count": 15
        },
        {
          "output_type": "display_data",
          "data": {
            "text/plain": [
              "<Figure size 432x288 with 1 Axes>"
            ],
            "image/png": "[encoded data removed]"
          },
          "metadata": {
            "needs_background": "light"
          }
        }
      ]
    },
    {
      "cell_type": "code",
      "source": [
        "raw_dataset_test.hist()"
      ],
      "metadata": {
        "colab": {
          "base_uri": "https://localhost:8080/",
          "height": 415
        },
        "id": "KyYS3AINtSKl",
        "outputId": "20711ead-b28f-4b6f-a3f9-1722e030b536"
      },
      "execution_count": 16,
      "outputs": [
        {
          "output_type": "execute_result",
          "data": {
            "text/plain": [
              "array([[<matplotlib.axes._subplots.AxesSubplot object at 0x7fa735e05d50>,\n",
              "        <matplotlib.axes._subplots.AxesSubplot object at 0x7fa735a07e10>],\n",
              "       [<matplotlib.axes._subplots.AxesSubplot object at 0x7fa7359cb290>,\n",
              "        <matplotlib.axes._subplots.AxesSubplot object at 0x7fa735980790>],\n",
              "       [<matplotlib.axes._subplots.AxesSubplot object at 0x7fa735936c90>,\n",
              "        <matplotlib.axes._subplots.AxesSubplot object at 0x7fa7358fa1d0>]],\n",
              "      dtype=object)"
            ]
          },
          "metadata": {},
          "execution_count": 16
        },
        {
          "output_type": "display_data",
          "data": {
            "text/plain": [
              "<Figure size 432x288 with 6 Axes>"
            ],
            "image/png": "[encoded data removed]"
          },
          "metadata": {
            "needs_background": "light"
          }
        }
      ]
    },
    {
      "cell_type": "markdown",
      "source": [
        "# Prepare Data"
      ],
      "metadata": {
        "id": "uaA1R9Vox_Hl"
      }
    },
    {
      "cell_type": "code",
      "source": [
        "dataset_train = raw_dataset_train.loc[:, ['Open']]\n",
        "dataset_test = raw_dataset_test.loc[:, ['Open']]"
      ],
      "metadata": {
        "id": "BNXNBT9VtSNd"
      },
      "execution_count": 17,
      "outputs": []
    },
    {
      "cell_type": "code",
      "source": [
        "# feature scaling\n",
        "scaler = MinMaxScaler(feature_range=(0,1))\n",
        "scaler.fit(dataset_train)\n",
        "dataset_train = scaler.transform(dataset_train)\n",
        "dataset_test = scaler.transform(dataset_test)"
      ],
      "metadata": {
        "id": "afc_LHT5tSQV"
      },
      "execution_count": 18,
      "outputs": []
    },
    {
      "cell_type": "code",
      "source": [
        "dataset_train"
      ],
      "metadata": {
        "colab": {
          "base_uri": "https://localhost:8080/"
        },
        "id": "mVIPknT_tSTL",
        "outputId": "eb2dd4b4-3bd9-4197-d3c1-bb3f9d9ac666"
      },
      "execution_count": 19,
      "outputs": [
        {
          "output_type": "execute_result",
          "data": {
            "text/plain": [
              "array([[0.08581368],\n",
              "       [0.09701243],\n",
              "       [0.09433366],\n",
              "       ...,\n",
              "       [0.95725128],\n",
              "       [0.93796041],\n",
              "       [0.93688146]])"
            ]
          },
          "metadata": {},
          "execution_count": 19
        }
      ]
    },
    {
      "cell_type": "code",
      "source": [
        "# preprate Time Series Data\n",
        "# number of obserations to use from time\n",
        "T = 60\n",
        "def time_series_data(dataset):\n",
        "  X = []\n",
        "  y = []\n",
        "  for i in range(T, len(dataset)):\n",
        "    X.append(dataset[i-T:i, :])\n",
        "    y.append(dataset[i,0])\n",
        "  X = np.array(X)\n",
        "  y = np.array(y)\n",
        "  return X, y"
      ],
      "metadata": {
        "id": "jspyr0zptSWB"
      },
      "execution_count": 20,
      "outputs": []
    },
    {
      "cell_type": "code",
      "source": [
        "X_train, y_train = time_series_data(dataset=dataset_train)\n",
        "print(f\"X_train shape ={X_train.shape} , y_train = {y_train.shape}\")"
      ],
      "metadata": {
        "colab": {
          "base_uri": "https://localhost:8080/"
        },
        "id": "y9xOww0AtSYl",
        "outputId": "7e04bcc2-149a-4fe9-e0e8-6be289e247a2"
      },
      "execution_count": 21,
      "outputs": [
        {
          "output_type": "stream",
          "name": "stdout",
          "text": [
            "X_train shape =(1198, 60, 1) , y_train = (1198,)\n"
          ]
        }
      ]
    },
    {
      "cell_type": "code",
      "source": [
        "X_test, y_test = time_series_data(dataset=np.concatenate([dataset_train[-T:,: ], dataset_test], axis=0))\n",
        "print(f\"X_test shape ={X_test.shape} , y_test = {y_test.shape}\")"
      ],
      "metadata": {
        "colab": {
          "base_uri": "https://localhost:8080/"
        },
        "id": "LD7rdh1cBcfP",
        "outputId": "60f685bc-9038-4136-d3b4-4d17130fa7c6"
      },
      "execution_count": 22,
      "outputs": [
        {
          "output_type": "stream",
          "name": "stdout",
          "text": [
            "X_test shape =(20, 60, 1) , y_test = (20,)\n"
          ]
        }
      ]
    },
    {
      "cell_type": "markdown",
      "source": [
        "# Model"
      ],
      "metadata": {
        "id": "XF-uxufgDjCB"
      }
    },
    {
      "cell_type": "code",
      "source": [
        "# input layer \n",
        "inputs = tf.keras.layers.Input(shape = (T, 1,))\n",
        "# LSTM -1\n",
        "x = tf.keras.layers.LSTM(units = 50, return_sequences=True)(inputs)\n",
        "x = tf.keras.layers.Dropout(rate = 0.1)(x)\n",
        "# LSTM -2\n",
        "x = tf.keras.layers.LSTM(units = 50, return_sequences=True)(x)\n",
        "x = tf.keras.layers.Dropout(rate = 0.1)(x)\n",
        "# LSTM -3\n",
        "x = tf.keras.layers.LSTM(units = 50, return_sequences=True)(x)\n",
        "x = tf.keras.layers.Dropout(rate = 0.1)(x)\n",
        "# LSTM -4\n",
        "x = tf.keras.layers.LSTM(units = 50)(x)\n",
        "x = tf.keras.layers.Dropout(rate = 0.1)(x)\n",
        "# Dense\n",
        "outputs = tf.keras.layers.Dense(units =1, activation ='relu')(x)\n",
        "model = tf.keras.Model(inputs = inputs, outputs = outputs)\n",
        "model.summary()"
      ],
      "metadata": {
        "id": "NzRqty_SBch6",
        "colab": {
          "base_uri": "https://localhost:8080/"
        },
        "outputId": "66d9866b-9764-4cdc-f611-d267c1ab0385"
      },
      "execution_count": 23,
      "outputs": [
        {
          "output_type": "stream",
          "name": "stdout",
          "text": [
            "Model: \"model\"\n",
            "_________________________________________________________________\n",
            " Layer (type)                Output Shape              Param #   \n",
            "=================================================================\n",
            " input_1 (InputLayer)        [(None, 60, 1)]           0         \n",
            "                                                                 \n",
            " lstm (LSTM)                 (None, 60, 50)            10400     \n",
            "                                                                 \n",
            " dropout (Dropout)           (None, 60, 50)            0         \n",
            "                                                                 \n",
            " lstm_1 (LSTM)               (None, 60, 50)            20200     \n",
            "                                                                 \n",
            " dropout_1 (Dropout)         (None, 60, 50)            0         \n",
            "                                                                 \n",
            " lstm_2 (LSTM)               (None, 60, 50)            20200     \n",
            "                                                                 \n",
            " dropout_2 (Dropout)         (None, 60, 50)            0         \n",
            "                                                                 \n",
            " lstm_3 (LSTM)               (None, 50)                20200     \n",
            "                                                                 \n",
            " dropout_3 (Dropout)         (None, 50)                0         \n",
            "                                                                 \n",
            " dense (Dense)               (None, 1)                 51        \n",
            "                                                                 \n",
            "=================================================================\n",
            "Total params: 71,051\n",
            "Trainable params: 71,051\n",
            "Non-trainable params: 0\n",
            "_________________________________________________________________\n"
          ]
        }
      ]
    },
    {
      "cell_type": "code",
      "source": [
        "tf.keras.utils.plot_model(model = model, rankdir='TB', show_shapes = True)"
      ],
      "metadata": {
        "colab": {
          "base_uri": "https://localhost:8080/",
          "height": 1000
        },
        "id": "UY8XOHvDXHB4",
        "outputId": "0e3fc24b-2ec3-4a61-b6e4-79c771ba33fb"
      },
      "execution_count": 24,
      "outputs": [
        {
          "output_type": "execute_result",
          "data": {
            "text/plain": [
              "<IPython.core.display.Image object>"
            ],
            "image/png": "[encoded data removed]"
          },
          "metadata": {},
          "execution_count": 24
        }
      ]
    },
    {
      "cell_type": "markdown",
      "source": [
        "# Train the Model"
      ],
      "metadata": {
        "id": "XIFkPiHmXuNf"
      }
    },
    {
      "cell_type": "code",
      "source": [
        "# compile\n",
        "model.compile(optimizer ='adam', loss='mse', metrics = [tf.keras.metrics.RootMeanSquaredError()])"
      ],
      "metadata": {
        "id": "h11VQZoiBclK"
      },
      "execution_count": 25,
      "outputs": []
    },
    {
      "cell_type": "code",
      "source": [
        "model.fit(x=X_train, y = y_train, epochs =100, batch_size =32)"
      ],
      "metadata": {
        "colab": {
          "base_uri": "https://localhost:8080/"
        },
        "id": "bklfKXIfXojp",
        "outputId": "9bdf6fb6-41ef-4482-d1e0-2f6f0b5eafa7"
      },
      "execution_count": 26,
      "outputs": [
        {
          "output_type": "stream",
          "name": "stdout",
          "text": [
            "Epoch 1/100\n",
            "38/38 [==============================] - 13s 60ms/step - loss: 0.0260 - root_mean_squared_error: 0.1614\n",
            "Epoch 2/100\n",
            "38/38 [==============================] - 2s 61ms/step - loss: 0.0040 - root_mean_squared_error: 0.0631\n",
            "Epoch 3/100\n",
            "38/38 [==============================] - 2s 60ms/step - loss: 0.0041 - root_mean_squared_error: 0.0641\n",
            "Epoch 4/100\n",
            "38/38 [==============================] - 2s 61ms/step - loss: 0.0038 - root_mean_squared_error: 0.0615\n",
            "Epoch 5/100\n",
            "38/38 [==============================] - 2s 61ms/step - loss: 0.0033 - root_mean_squared_error: 0.0575\n",
            "Epoch 6/100\n",
            "38/38 [==============================] - 2s 61ms/step - loss: 0.0031 - root_mean_squared_error: 0.0559\n",
            "Epoch 7/100\n",
            "38/38 [==============================] - 2s 61ms/step - loss: 0.0041 - root_mean_squared_error: 0.0640\n",
            "Epoch 8/100\n",
            "38/38 [==============================] - 2s 61ms/step - loss: 0.0032 - root_mean_squared_error: 0.0568\n",
            "Epoch 9/100\n",
            "38/38 [==============================] - 2s 60ms/step - loss: 0.0033 - root_mean_squared_error: 0.0570\n",
            "Epoch 10/100\n",
            "38/38 [==============================] - 2s 61ms/step - loss: 0.0032 - root_mean_squared_error: 0.0568\n",
            "Epoch 11/100\n",
            "38/38 [==============================] - 2s 60ms/step - loss: 0.0028 - root_mean_squared_error: 0.0530\n",
            "Epoch 12/100\n",
            "38/38 [==============================] - 2s 60ms/step - loss: 0.0028 - root_mean_squared_error: 0.0528\n",
            "Epoch 13/100\n",
            "38/38 [==============================] - 2s 61ms/step - loss: 0.0027 - root_mean_squared_error: 0.0520\n",
            "Epoch 14/100\n",
            "38/38 [==============================] - 2s 61ms/step - loss: 0.0027 - root_mean_squared_error: 0.0523\n",
            "Epoch 15/100\n",
            "38/38 [==============================] - 2s 61ms/step - loss: 0.0027 - root_mean_squared_error: 0.0517\n",
            "Epoch 16/100\n",
            "38/38 [==============================] - 2s 65ms/step - loss: 0.0032 - root_mean_squared_error: 0.0565\n",
            "Epoch 17/100\n",
            "38/38 [==============================] - 2s 63ms/step - loss: 0.0029 - root_mean_squared_error: 0.0540\n",
            "Epoch 18/100\n",
            "38/38 [==============================] - 2s 61ms/step - loss: 0.0025 - root_mean_squared_error: 0.0502\n",
            "Epoch 19/100\n",
            "38/38 [==============================] - 2s 60ms/step - loss: 0.0024 - root_mean_squared_error: 0.0494\n",
            "Epoch 20/100\n",
            "38/38 [==============================] - 2s 61ms/step - loss: 0.0025 - root_mean_squared_error: 0.0496\n",
            "Epoch 21/100\n",
            "38/38 [==============================] - 2s 61ms/step - loss: 0.0024 - root_mean_squared_error: 0.0490\n",
            "Epoch 22/100\n",
            "38/38 [==============================] - 2s 61ms/step - loss: 0.0024 - root_mean_squared_error: 0.0493\n",
            "Epoch 23/100\n",
            "38/38 [==============================] - 2s 61ms/step - loss: 0.0033 - root_mean_squared_error: 0.0572\n",
            "Epoch 24/100\n",
            "38/38 [==============================] - 2s 61ms/step - loss: 0.0023 - root_mean_squared_error: 0.0479\n",
            "Epoch 25/100\n",
            "38/38 [==============================] - 2s 61ms/step - loss: 0.0022 - root_mean_squared_error: 0.0469\n",
            "Epoch 26/100\n",
            "38/38 [==============================] - 2s 61ms/step - loss: 0.0027 - root_mean_squared_error: 0.0517\n",
            "Epoch 27/100\n",
            "38/38 [==============================] - 2s 60ms/step - loss: 0.0024 - root_mean_squared_error: 0.0489\n",
            "Epoch 28/100\n",
            "38/38 [==============================] - 2s 61ms/step - loss: 0.0022 - root_mean_squared_error: 0.0467\n",
            "Epoch 29/100\n",
            "38/38 [==============================] - 2s 60ms/step - loss: 0.0024 - root_mean_squared_error: 0.0495\n",
            "Epoch 30/100\n",
            "38/38 [==============================] - 2s 61ms/step - loss: 0.0021 - root_mean_squared_error: 0.0462\n",
            "Epoch 31/100\n",
            "38/38 [==============================] - 2s 61ms/step - loss: 0.0028 - root_mean_squared_error: 0.0532\n",
            "Epoch 32/100\n",
            "38/38 [==============================] - 2s 61ms/step - loss: 0.0024 - root_mean_squared_error: 0.0491\n",
            "Epoch 33/100\n",
            "38/38 [==============================] - 2s 61ms/step - loss: 0.0024 - root_mean_squared_error: 0.0489\n",
            "Epoch 34/100\n",
            "38/38 [==============================] - 2s 61ms/step - loss: 0.0021 - root_mean_squared_error: 0.0458\n",
            "Epoch 35/100\n",
            "38/38 [==============================] - 2s 61ms/step - loss: 0.0021 - root_mean_squared_error: 0.0455\n",
            "Epoch 36/100\n",
            "38/38 [==============================] - 2s 60ms/step - loss: 0.0020 - root_mean_squared_error: 0.0444\n",
            "Epoch 37/100\n",
            "38/38 [==============================] - 2s 61ms/step - loss: 0.0022 - root_mean_squared_error: 0.0466\n",
            "Epoch 38/100\n",
            "38/38 [==============================] - 2s 61ms/step - loss: 0.0018 - root_mean_squared_error: 0.0429\n",
            "Epoch 39/100\n",
            "38/38 [==============================] - 2s 61ms/step - loss: 0.0022 - root_mean_squared_error: 0.0472\n",
            "Epoch 40/100\n",
            "38/38 [==============================] - 2s 60ms/step - loss: 0.0019 - root_mean_squared_error: 0.0437\n",
            "Epoch 41/100\n",
            "38/38 [==============================] - 2s 60ms/step - loss: 0.0023 - root_mean_squared_error: 0.0476\n",
            "Epoch 42/100\n",
            "38/38 [==============================] - 2s 61ms/step - loss: 0.0019 - root_mean_squared_error: 0.0438\n",
            "Epoch 43/100\n",
            "38/38 [==============================] - 2s 61ms/step - loss: 0.0018 - root_mean_squared_error: 0.0419\n",
            "Epoch 44/100\n",
            "38/38 [==============================] - 2s 61ms/step - loss: 0.0018 - root_mean_squared_error: 0.0426\n",
            "Epoch 45/100\n",
            "38/38 [==============================] - 2s 61ms/step - loss: 0.0016 - root_mean_squared_error: 0.0403\n",
            "Epoch 46/100\n",
            "38/38 [==============================] - 2s 62ms/step - loss: 0.0016 - root_mean_squared_error: 0.0404\n",
            "Epoch 47/100\n",
            "38/38 [==============================] - 2s 61ms/step - loss: 0.0018 - root_mean_squared_error: 0.0422\n",
            "Epoch 48/100\n",
            "38/38 [==============================] - 2s 61ms/step - loss: 0.0019 - root_mean_squared_error: 0.0431\n",
            "Epoch 49/100\n",
            "38/38 [==============================] - 2s 61ms/step - loss: 0.0016 - root_mean_squared_error: 0.0398\n",
            "Epoch 50/100\n",
            "38/38 [==============================] - 2s 61ms/step - loss: 0.0019 - root_mean_squared_error: 0.0431\n",
            "Epoch 51/100\n",
            "38/38 [==============================] - 2s 61ms/step - loss: 0.0016 - root_mean_squared_error: 0.0397\n",
            "Epoch 52/100\n",
            "38/38 [==============================] - 2s 61ms/step - loss: 0.0018 - root_mean_squared_error: 0.0425\n",
            "Epoch 53/100\n",
            "38/38 [==============================] - 2s 61ms/step - loss: 0.0016 - root_mean_squared_error: 0.0394\n",
            "Epoch 54/100\n",
            "38/38 [==============================] - 2s 62ms/step - loss: 0.0016 - root_mean_squared_error: 0.0403\n",
            "Epoch 55/100\n",
            "38/38 [==============================] - 2s 61ms/step - loss: 0.0015 - root_mean_squared_error: 0.0383\n",
            "Epoch 56/100\n",
            "38/38 [==============================] - 2s 61ms/step - loss: 0.0017 - root_mean_squared_error: 0.0410\n",
            "Epoch 57/100\n",
            "38/38 [==============================] - 2s 61ms/step - loss: 0.0017 - root_mean_squared_error: 0.0407\n",
            "Epoch 58/100\n",
            "38/38 [==============================] - 2s 61ms/step - loss: 0.0015 - root_mean_squared_error: 0.0385\n",
            "Epoch 59/100\n",
            "38/38 [==============================] - 2s 61ms/step - loss: 0.0015 - root_mean_squared_error: 0.0391\n",
            "Epoch 60/100\n",
            "38/38 [==============================] - 2s 61ms/step - loss: 0.0015 - root_mean_squared_error: 0.0383\n",
            "Epoch 61/100\n",
            "38/38 [==============================] - 2s 61ms/step - loss: 0.0014 - root_mean_squared_error: 0.0380\n",
            "Epoch 62/100\n",
            "38/38 [==============================] - 2s 61ms/step - loss: 0.0014 - root_mean_squared_error: 0.0370\n",
            "Epoch 63/100\n",
            "38/38 [==============================] - 2s 61ms/step - loss: 0.0017 - root_mean_squared_error: 0.0418\n",
            "Epoch 64/100\n",
            "38/38 [==============================] - 2s 60ms/step - loss: 0.0017 - root_mean_squared_error: 0.0411\n",
            "Epoch 65/100\n",
            "38/38 [==============================] - 2s 60ms/step - loss: 0.0014 - root_mean_squared_error: 0.0375\n",
            "Epoch 66/100\n",
            "38/38 [==============================] - 2s 60ms/step - loss: 0.0014 - root_mean_squared_error: 0.0379\n",
            "Epoch 67/100\n",
            "38/38 [==============================] - 2s 61ms/step - loss: 0.0014 - root_mean_squared_error: 0.0380\n",
            "Epoch 68/100\n",
            "38/38 [==============================] - 2s 60ms/step - loss: 0.0015 - root_mean_squared_error: 0.0389\n",
            "Epoch 69/100\n",
            "38/38 [==============================] - 2s 61ms/step - loss: 0.0018 - root_mean_squared_error: 0.0421\n",
            "Epoch 70/100\n",
            "38/38 [==============================] - 2s 60ms/step - loss: 0.0012 - root_mean_squared_error: 0.0348\n",
            "Epoch 71/100\n",
            "38/38 [==============================] - 2s 60ms/step - loss: 0.0012 - root_mean_squared_error: 0.0349\n",
            "Epoch 72/100\n",
            "38/38 [==============================] - 2s 61ms/step - loss: 0.0013 - root_mean_squared_error: 0.0366\n",
            "Epoch 73/100\n",
            "38/38 [==============================] - 2s 61ms/step - loss: 0.0014 - root_mean_squared_error: 0.0374\n",
            "Epoch 74/100\n",
            "38/38 [==============================] - 2s 61ms/step - loss: 0.0014 - root_mean_squared_error: 0.0369\n",
            "Epoch 75/100\n",
            "38/38 [==============================] - 2s 61ms/step - loss: 0.0014 - root_mean_squared_error: 0.0372\n",
            "Epoch 76/100\n",
            "38/38 [==============================] - 2s 61ms/step - loss: 0.0012 - root_mean_squared_error: 0.0351\n",
            "Epoch 77/100\n",
            "38/38 [==============================] - 2s 61ms/step - loss: 0.0014 - root_mean_squared_error: 0.0376\n",
            "Epoch 78/100\n",
            "38/38 [==============================] - 2s 61ms/step - loss: 0.0013 - root_mean_squared_error: 0.0359\n",
            "Epoch 79/100\n",
            "38/38 [==============================] - 2s 61ms/step - loss: 0.0012 - root_mean_squared_error: 0.0351\n",
            "Epoch 80/100\n",
            "38/38 [==============================] - 2s 61ms/step - loss: 0.0011 - root_mean_squared_error: 0.0335\n",
            "Epoch 81/100\n",
            "38/38 [==============================] - 2s 61ms/step - loss: 0.0016 - root_mean_squared_error: 0.0395\n",
            "Epoch 82/100\n",
            "38/38 [==============================] - 2s 61ms/step - loss: 0.0012 - root_mean_squared_error: 0.0345\n",
            "Epoch 83/100\n",
            "38/38 [==============================] - 2s 61ms/step - loss: 0.0010 - root_mean_squared_error: 0.0321\n",
            "Epoch 84/100\n",
            "38/38 [==============================] - 2s 61ms/step - loss: 0.0012 - root_mean_squared_error: 0.0347\n",
            "Epoch 85/100\n",
            "38/38 [==============================] - 2s 61ms/step - loss: 0.0011 - root_mean_squared_error: 0.0326\n",
            "Epoch 86/100\n",
            "38/38 [==============================] - 2s 61ms/step - loss: 0.0010 - root_mean_squared_error: 0.0318\n",
            "Epoch 87/100\n",
            "38/38 [==============================] - 2s 61ms/step - loss: 0.0012 - root_mean_squared_error: 0.0342\n",
            "Epoch 88/100\n",
            "38/38 [==============================] - 2s 61ms/step - loss: 0.0011 - root_mean_squared_error: 0.0330\n",
            "Epoch 89/100\n",
            "38/38 [==============================] - 2s 61ms/step - loss: 0.0012 - root_mean_squared_error: 0.0347\n",
            "Epoch 90/100\n",
            "38/38 [==============================] - 2s 61ms/step - loss: 9.9305e-04 - root_mean_squared_error: 0.0315\n",
            "Epoch 91/100\n",
            "38/38 [==============================] - 2s 61ms/step - loss: 0.0011 - root_mean_squared_error: 0.0338\n",
            "Epoch 92/100\n",
            "38/38 [==============================] - 2s 61ms/step - loss: 0.0011 - root_mean_squared_error: 0.0339\n",
            "Epoch 93/100\n",
            "38/38 [==============================] - 2s 61ms/step - loss: 0.0010 - root_mean_squared_error: 0.0317\n",
            "Epoch 94/100\n",
            "38/38 [==============================] - 2s 61ms/step - loss: 0.0010 - root_mean_squared_error: 0.0321\n",
            "Epoch 95/100\n",
            "38/38 [==============================] - 2s 61ms/step - loss: 0.0011 - root_mean_squared_error: 0.0337\n",
            "Epoch 96/100\n",
            "38/38 [==============================] - 2s 61ms/step - loss: 0.0011 - root_mean_squared_error: 0.0326\n",
            "Epoch 97/100\n",
            "38/38 [==============================] - 2s 61ms/step - loss: 0.0010 - root_mean_squared_error: 0.0323\n",
            "Epoch 98/100\n",
            "38/38 [==============================] - 2s 61ms/step - loss: 9.6986e-04 - root_mean_squared_error: 0.0311\n",
            "Epoch 99/100\n",
            "38/38 [==============================] - 2s 61ms/step - loss: 0.0012 - root_mean_squared_error: 0.0339\n",
            "Epoch 100/100\n",
            "38/38 [==============================] - 2s 61ms/step - loss: 0.0013 - root_mean_squared_error: 0.0356\n"
          ]
        },
        {
          "output_type": "execute_result",
          "data": {
            "text/plain": [
              "<keras.callbacks.History at 0x7fa7302a3390>"
            ]
          },
          "metadata": {},
          "execution_count": 26
        }
      ]
    },
    {
      "cell_type": "code",
      "source": [
        "y_test_pred = model.predict(X_test)\n",
        "y_test_pred "
      ],
      "metadata": {
        "colab": {
          "base_uri": "https://localhost:8080/"
        },
        "id": "cgs7POD1XotP",
        "outputId": "8d131f38-7bd9-44d2-fa67-8315646f4de4"
      },
      "execution_count": 27,
      "outputs": [
        {
          "output_type": "execute_result",
          "data": {
            "text/plain": [
              "array([[0.95308864],\n",
              "       [0.94795287],\n",
              "       [0.953043  ],\n",
              "       [0.95556426],\n",
              "       [0.96251994],\n",
              "       [0.97494656],\n",
              "       [0.981502  ],\n",
              "       [0.97975487],\n",
              "       [0.9793125 ],\n",
              "       [0.9803734 ],\n",
              "       [0.9815707 ],\n",
              "       [0.98190093],\n",
              "       [0.9821295 ],\n",
              "       [0.98437774],\n",
              "       [0.9864522 ],\n",
              "       [1.000023  ],\n",
              "       [1.0137011 ],\n",
              "       [1.02509   ],\n",
              "       [1.0255098 ],\n",
              "       [1.0070608 ]], dtype=float32)"
            ]
          },
          "metadata": {},
          "execution_count": 27
        }
      ]
    },
    {
      "cell_type": "markdown",
      "source": [
        "# Visualize Predictions"
      ],
      "metadata": {
        "id": "U-LtGT3YbuDp"
      }
    },
    {
      "cell_type": "code",
      "source": [
        "fig, axs = plt.subplots()\n",
        "axs.plot(scaler.inverse_transform(y_test.reshape(1,-1)).squeeze(), label ='real stock price', color ='blue')\n",
        "axs.plot(scaler.inverse_transform(y_test_pred).squeeze(), label ='Predicted stock price', color ='red')\n",
        "axs.set_title('Google Stock price prediction using LSTM')\n",
        "axs.set_xlabel('Date')\n",
        "axs.set_ylabel('Stock Price')\n",
        "axs.legend()"
      ],
      "metadata": {
        "id": "LNtiAp41Bcnj",
        "colab": {
          "base_uri": "https://localhost:8080/",
          "height": 312
        },
        "outputId": "8c5feeff-9244-4f6c-b8fa-7064e3eef80c"
      },
      "execution_count": 28,
      "outputs": [
        {
          "output_type": "execute_result",
          "data": {
            "text/plain": [
              "<matplotlib.legend.Legend at 0x7fa7301fcb10>"
            ]
          },
          "metadata": {},
          "execution_count": 28
        },
        {
          "output_type": "display_data",
          "data": {
            "text/plain": [
              "<Figure size 432x288 with 1 Axes>"
            ],
            "image/png": "[encoded data removed]"
          },
          "metadata": {
            "needs_background": "light"
          }
        }
      ]
    }
  ]
}